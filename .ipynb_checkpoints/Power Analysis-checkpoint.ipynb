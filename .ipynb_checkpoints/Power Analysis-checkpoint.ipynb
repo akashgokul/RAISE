{
 "cells": [
  {
   "cell_type": "code",
   "execution_count": 2,
   "metadata": {},
   "outputs": [],
   "source": [
    "import numpy as np\n",
    "import matplotlib.pyplot as plt\n",
    "import csv"
   ]
  },
  {
   "cell_type": "markdown",
   "metadata": {},
   "source": [
    "# Pre-Experiment Data"
   ]
  },
  {
   "cell_type": "code",
   "execution_count": 23,
   "metadata": {},
   "outputs": [
    {
     "name": "stdout",
     "output_type": "stream",
     "text": [
      "{0: 4247.748530231056, 1: 4746.578990195532, 2: 5245.846181304746, 3: 5706.854222953423, 4: 5999.864235681311, 5: 6198.6212358432895, 6: 6375.049167899863, 7: 6530.158340615662, 8: 6685.063774486716, 9: 791.4412448473689, 10: 277.62377062973684, 11: 413.6511683761852, 12: 544.0271925169745, 13: 673.0289465484224, 14: 806.5679143338169, 15: 938.210314078158, 16: 1075.193231536053, 17: 1210.5727281888164, 18: 1434.7222094705257, 19: 1886.1625306496055, 20: 2381.020587541711, 21: 2892.360756311186, 22: 3358.794846767762, 23: 3800.25261368355}\n"
     ]
    }
   ],
   "source": [
    "## NEED TO FIX, DATA IS NOT CLEAN, the date intervals are all over the place\n",
    "power_used = {i:0 for i in range(0,24)}\n",
    "with open('HourlyDataFinal.csv') as csvfile:\n",
    "    readCSV = csv.reader(csvfile, delimiter=',')\n",
    "    for row in readCSV:\n",
    "        if(row[4] == 'Hour'):\n",
    "            continue\n",
    "        power_used[int(float(row[4]))] += float(row[7])"
   ]
  },
  {
   "cell_type": "code",
   "execution_count": null,
   "metadata": {},
   "outputs": [],
   "source": []
  }
 ],
 "metadata": {
  "kernelspec": {
   "display_name": "Python 3",
   "language": "python",
   "name": "python3"
  },
  "language_info": {
   "codemirror_mode": {
    "name": "ipython",
    "version": 3
   },
   "file_extension": ".py",
   "mimetype": "text/x-python",
   "name": "python",
   "nbconvert_exporter": "python",
   "pygments_lexer": "ipython3",
   "version": "3.7.4"
  }
 },
 "nbformat": 4,
 "nbformat_minor": 2
}
